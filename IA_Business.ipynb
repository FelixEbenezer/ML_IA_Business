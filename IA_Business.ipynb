{
  "nbformat": 4,
  "nbformat_minor": 0,
  "metadata": {
    "colab": {
      "name": "IA_Business.ipynb",
      "provenance": [],
      "collapsed_sections": [],
      "authorship_tag": "ABX9TyOLMDbh9VOmqR7JTodGSPgM",
      "include_colab_link": true
    },
    "kernelspec": {
      "name": "python3",
      "display_name": "Python 3"
    },
    "language_info": {
      "name": "python"
    }
  },
  "cells": [
    {
      "cell_type": "markdown",
      "metadata": {
        "id": "view-in-github",
        "colab_type": "text"
      },
      "source": [
        "<a href=\"https://colab.research.google.com/github/FelixEbenezer/ML_IA_Business/blob/main/IA_Business.ipynb\" target=\"_parent\"><img src=\"https://colab.research.google.com/assets/colab-badge.svg\" alt=\"Open In Colab\"/></a>"
      ]
    },
    {
      "cell_type": "markdown",
      "source": [
        "# 1. OPTIMISATION DE BUSINESS PROCESS"
      ],
      "metadata": {
        "id": "sGIXogL26mXZ"
      }
    },
    {
      "cell_type": "code",
      "execution_count": null,
      "metadata": {
        "id": "u5jbsLzB6ewa"
      },
      "outputs": [],
      "source": [
        "ce qui diferencia ce projet de l autre, est qu ici on se focalise de l appliqcation de l´IA dans un milieu industriel, ou on vise avec l aide de l IA\n",
        "a reduire les couts et maximiser les recettes tout en optimisant les business process"
      ]
    },
    {
      "cell_type": "code",
      "source": [
        ""
      ],
      "metadata": {
        "id": "qfUfFAfG8zfs"
      },
      "execution_count": null,
      "outputs": []
    }
  ]
}