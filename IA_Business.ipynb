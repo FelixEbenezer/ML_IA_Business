{
  "nbformat": 4,
  "nbformat_minor": 0,
  "metadata": {
    "colab": {
      "name": "IA_Business.ipynb",
      "provenance": [],
      "authorship_tag": "ABX9TyPo3Xf/bBermr9vEdnbnIfv",
      "include_colab_link": true
    },
    "kernelspec": {
      "name": "python3",
      "display_name": "Python 3"
    },
    "language_info": {
      "name": "python"
    }
  },
  "cells": [
    {
      "cell_type": "markdown",
      "metadata": {
        "id": "view-in-github",
        "colab_type": "text"
      },
      "source": [
        "<a href=\"https://colab.research.google.com/github/FelixEbenezer/ML_IA_Business/blob/main/IA_Business.ipynb\" target=\"_parent\"><img src=\"https://colab.research.google.com/assets/colab-badge.svg\" alt=\"Open In Colab\"/></a>"
      ]
    },
    {
      "cell_type": "markdown",
      "source": [
        "# 1. OPTIMISATION DE BUSINESS PROCESS"
      ],
      "metadata": {
        "id": "sGIXogL26mXZ"
      }
    },
    {
      "cell_type": "code",
      "execution_count": null,
      "metadata": {
        "id": "u5jbsLzB6ewa"
      },
      "outputs": [],
      "source": [
        ""
      ]
    }
  ]
}